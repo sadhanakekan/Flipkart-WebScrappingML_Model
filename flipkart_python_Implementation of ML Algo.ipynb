{
 "cells": [
  {
   "cell_type": "code",
   "execution_count": 1,
   "id": "5af0c510",
   "metadata": {},
   "outputs": [],
   "source": [
    "import pandas as pd\n",
    "\n",
    "# Load the CSV file into a DataFrame\n",
    "df = pd.read_csv(\"flipkart_mobiles_under_50000_new2.csv\")\n",
    "\n",
    "# Remove rows with NA (missing) values\n",
    "df_cleaned = df.dropna()\n",
    "\n",
    "# Save the cleaned DataFrame to an Excel file\n",
    "df_cleaned.to_csv(\"cleaned_flipkart_mobiles.csv\", index=False)\n",
    "\n"
   ]
  },
  {
   "cell_type": "code",
   "execution_count": 5,
   "id": "e3d16b4c",
   "metadata": {},
   "outputs": [
    {
     "name": "stdout",
     "output_type": "stream",
     "text": [
      "Root Mean Squared Error: 8368.684684628466\n"
     ]
    }
   ],
   "source": [
    "import pandas as pd\n",
    "from sklearn.model_selection import train_test_split\n",
    "from sklearn.feature_extraction.text import TfidfVectorizer\n",
    "from sklearn.linear_model import LinearRegression\n",
    "from sklearn.metrics import mean_squared_error\n",
    "\n",
    "# Load the CSV file into a DataFrame\n",
    "df = pd.read_csv(\"cleaned_flipkart_mobiles.csv\")\n",
    "\n",
    "# Prepare the dataset with \"Name of mobile\" as X and \"Price\" as y\n",
    "X = df[\"Product Name\"]\n",
    "y = df[\"Prices\"]\n",
    "\n",
    "# Split the data into a training set and a test set\n",
    "X_train, X_test, y_train, y_test = train_test_split(X, y, test_size=0.2, random_state=42)\n",
    "\n",
    "# Initialize a TF-IDF vectorizer\n",
    "tfidf_vectorizer = TfidfVectorizer()\n",
    "\n",
    "# Fit and transform the training data\n",
    "X_train_tfidf = tfidf_vectorizer.fit_transform(X_train)\n",
    "\n",
    "# Transform the test data\n",
    "X_test_tfidf = tfidf_vectorizer.transform(X_test)\n",
    "\n",
    "# Create a Linear Regression model\n",
    "model = LinearRegression()\n",
    "\n",
    "# Train the model on the training data\n",
    "model.fit(X_train_tfidf, y_train)\n",
    "\n",
    "# Make predictions on the test data\n",
    "y_pred = model.predict(X_test_tfidf)\n",
    "\n",
    "# Evaluate the model\n",
    "mse = mean_squared_error(y_test, y_pred)\n",
    "rmse = mse**0.5\n",
    "print(\"Root Mean Squared Error:\", rmse)\n",
    "model.score(X_test_tfidf,y_test)\n",
    "import pickle\n",
    "\n",
    "# Assuming you have already trained and have a model named 'model'\n",
    "# Save the trained model to a file using pickle\n",
    "with open('mobile_price_prediction_model.pkl', 'wb') as model_file:\n",
    "    pickle.dump(model, model_file)\n",
    "\n",
    "# Later, when you want to use the model for predictions\n",
    "# Load the model from the pickle file\n",
    "#with open('mobile_price_prediction_model.pkl', 'rb') as model_file:\n",
    " #   loaded_model = pickle.load(model_file)\n",
    "\n",
    "# Now, you can use 'loaded_model' to make predictions\n",
    "\n",
    "\n",
    "# You can now use the trained model to make price predictions for new mobile phone names\n"
   ]
  },
  {
   "cell_type": "code",
   "execution_count": null,
   "id": "f669defb",
   "metadata": {},
   "outputs": [],
   "source": []
  }
 ],
 "metadata": {
  "kernelspec": {
   "display_name": "Python 3 (ipykernel)",
   "language": "python",
   "name": "python3"
  },
  "language_info": {
   "codemirror_mode": {
    "name": "ipython",
    "version": 3
   },
   "file_extension": ".py",
   "mimetype": "text/x-python",
   "name": "python",
   "nbconvert_exporter": "python",
   "pygments_lexer": "ipython3",
   "version": "3.10.9"
  }
 },
 "nbformat": 4,
 "nbformat_minor": 5
}
